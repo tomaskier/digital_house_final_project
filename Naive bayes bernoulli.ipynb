{
 "cells": [
  {
   "cell_type": "code",
   "execution_count": 1,
   "id": "f21f6649",
   "metadata": {},
   "outputs": [],
   "source": [
    "import numpy as np\n",
    "import pandas as pd\n",
    "import matplotlib.pyplot as plt\n",
    "import seaborn as sns\n",
    "import math\n",
    "from datetime import datetime"
   ]
  },
  {
   "cell_type": "code",
   "execution_count": 2,
   "id": "1f9118b7",
   "metadata": {},
   "outputs": [
    {
     "name": "stderr",
     "output_type": "stream",
     "text": [
      "C:\\Users\\Dell\\anaconda3\\envs\\dhdsblend2021\\lib\\site-packages\\IPython\\core\\interactiveshell.py:3135: DtypeWarning: Columns (2) have mixed types.Specify dtype option on import or set low_memory=False.\n",
      "  has_raised = await self.run_ast_nodes(code_ast.body, cell_name,\n"
     ]
    }
   ],
   "source": [
    "df = pd.read_csv(\"../Final/df_final.csv\")"
   ]
  },
  {
   "cell_type": "code",
   "execution_count": 3,
   "id": "8195e1d3",
   "metadata": {},
   "outputs": [
    {
     "data": {
      "text/html": [
       "<div>\n",
       "<style scoped>\n",
       "    .dataframe tbody tr th:only-of-type {\n",
       "        vertical-align: middle;\n",
       "    }\n",
       "\n",
       "    .dataframe tbody tr th {\n",
       "        vertical-align: top;\n",
       "    }\n",
       "\n",
       "    .dataframe thead th {\n",
       "        text-align: right;\n",
       "    }\n",
       "</style>\n",
       "<table border=\"1\" class=\"dataframe\">\n",
       "  <thead>\n",
       "    <tr style=\"text-align: right;\">\n",
       "      <th></th>\n",
       "      <th>crash_date</th>\n",
       "      <th>borough</th>\n",
       "      <th>zip code</th>\n",
       "      <th>latitude</th>\n",
       "      <th>longitude</th>\n",
       "      <th>location</th>\n",
       "      <th>collision_id</th>\n",
       "      <th>injured</th>\n",
       "      <th>deaths_number</th>\n",
       "      <th>vehicle</th>\n",
       "      <th>main_contributing_factor</th>\n",
       "      <th>road_type</th>\n",
       "      <th>crash_time</th>\n",
       "      <th>time_of_day</th>\n",
       "      <th>weekday</th>\n",
       "      <th>season</th>\n",
       "      <th>deaths</th>\n",
       "    </tr>\n",
       "  </thead>\n",
       "  <tbody>\n",
       "    <tr>\n",
       "      <th>0</th>\n",
       "      <td>2021-12-14</td>\n",
       "      <td>MANHATTAN</td>\n",
       "      <td>10017</td>\n",
       "      <td>40.751440</td>\n",
       "      <td>-73.973970</td>\n",
       "      <td>(40.75144, -73.97397)</td>\n",
       "      <td>4486519</td>\n",
       "      <td>0</td>\n",
       "      <td>0</td>\n",
       "      <td>Passenger vehicle</td>\n",
       "      <td>Passing Too Closely</td>\n",
       "      <td>avenue</td>\n",
       "      <td>14:58:00</td>\n",
       "      <td>day</td>\n",
       "      <td>Tuesday</td>\n",
       "      <td>Winter</td>\n",
       "      <td>0</td>\n",
       "    </tr>\n",
       "    <tr>\n",
       "      <th>1</th>\n",
       "      <td>2021-12-14</td>\n",
       "      <td>QUEENS</td>\n",
       "      <td>11413</td>\n",
       "      <td>40.675884</td>\n",
       "      <td>-73.755770</td>\n",
       "      <td>(40.675884, -73.75577)</td>\n",
       "      <td>4487127</td>\n",
       "      <td>0</td>\n",
       "      <td>0</td>\n",
       "      <td>Passenger vehicle</td>\n",
       "      <td>Turning Improperly</td>\n",
       "      <td>boulevard</td>\n",
       "      <td>16:50:00</td>\n",
       "      <td>day</td>\n",
       "      <td>Tuesday</td>\n",
       "      <td>Winter</td>\n",
       "      <td>0</td>\n",
       "    </tr>\n",
       "    <tr>\n",
       "      <th>2</th>\n",
       "      <td>2021-12-14</td>\n",
       "      <td>QUEENS</td>\n",
       "      <td>11434</td>\n",
       "      <td>40.666840</td>\n",
       "      <td>-73.789410</td>\n",
       "      <td>(40.66684, -73.78941)</td>\n",
       "      <td>4486635</td>\n",
       "      <td>4</td>\n",
       "      <td>0</td>\n",
       "      <td>Passenger vehicle</td>\n",
       "      <td>Other</td>\n",
       "      <td>avenue</td>\n",
       "      <td>23:10:00</td>\n",
       "      <td>night</td>\n",
       "      <td>Tuesday</td>\n",
       "      <td>Winter</td>\n",
       "      <td>0</td>\n",
       "    </tr>\n",
       "    <tr>\n",
       "      <th>3</th>\n",
       "      <td>2021-12-14</td>\n",
       "      <td>BROOKLYN</td>\n",
       "      <td>11211</td>\n",
       "      <td>40.710957</td>\n",
       "      <td>-73.951126</td>\n",
       "      <td>(40.710957, -73.951126)</td>\n",
       "      <td>4486556</td>\n",
       "      <td>2</td>\n",
       "      <td>0</td>\n",
       "      <td>Bus</td>\n",
       "      <td>Passing or Lane Usage Improper</td>\n",
       "      <td>street</td>\n",
       "      <td>17:15:00</td>\n",
       "      <td>day</td>\n",
       "      <td>Tuesday</td>\n",
       "      <td>Winter</td>\n",
       "      <td>0</td>\n",
       "    </tr>\n",
       "    <tr>\n",
       "      <th>4</th>\n",
       "      <td>2022-04-24</td>\n",
       "      <td>BRONX</td>\n",
       "      <td>10466</td>\n",
       "      <td>40.894810</td>\n",
       "      <td>-73.861830</td>\n",
       "      <td>(40.89481, -73.86183)</td>\n",
       "      <td>4521633</td>\n",
       "      <td>0</td>\n",
       "      <td>0</td>\n",
       "      <td>Passenger vehicle</td>\n",
       "      <td>Driver Inattention/Distraction</td>\n",
       "      <td>way</td>\n",
       "      <td>17:45:00</td>\n",
       "      <td>day</td>\n",
       "      <td>Sunday</td>\n",
       "      <td>Spring</td>\n",
       "      <td>0</td>\n",
       "    </tr>\n",
       "  </tbody>\n",
       "</table>\n",
       "</div>"
      ],
      "text/plain": [
       "   crash_date    borough zip code   latitude  longitude  \\\n",
       "0  2021-12-14  MANHATTAN    10017  40.751440 -73.973970   \n",
       "1  2021-12-14     QUEENS    11413  40.675884 -73.755770   \n",
       "2  2021-12-14     QUEENS    11434  40.666840 -73.789410   \n",
       "3  2021-12-14   BROOKLYN    11211  40.710957 -73.951126   \n",
       "4  2022-04-24      BRONX    10466  40.894810 -73.861830   \n",
       "\n",
       "                  location  collision_id  injured  deaths_number  \\\n",
       "0    (40.75144, -73.97397)       4486519        0              0   \n",
       "1   (40.675884, -73.75577)       4487127        0              0   \n",
       "2    (40.66684, -73.78941)       4486635        4              0   \n",
       "3  (40.710957, -73.951126)       4486556        2              0   \n",
       "4    (40.89481, -73.86183)       4521633        0              0   \n",
       "\n",
       "             vehicle        main_contributing_factor  road_type crash_time  \\\n",
       "0  Passenger vehicle             Passing Too Closely     avenue   14:58:00   \n",
       "1  Passenger vehicle              Turning Improperly  boulevard   16:50:00   \n",
       "2  Passenger vehicle                           Other     avenue   23:10:00   \n",
       "3                Bus  Passing or Lane Usage Improper     street   17:15:00   \n",
       "4  Passenger vehicle  Driver Inattention/Distraction        way   17:45:00   \n",
       "\n",
       "  time_of_day  weekday  season  deaths  \n",
       "0         day  Tuesday  Winter       0  \n",
       "1         day  Tuesday  Winter       0  \n",
       "2       night  Tuesday  Winter       0  \n",
       "3         day  Tuesday  Winter       0  \n",
       "4         day   Sunday  Spring       0  "
      ]
     },
     "execution_count": 3,
     "metadata": {},
     "output_type": "execute_result"
    }
   ],
   "source": [
    "df.head(5)"
   ]
  },
  {
   "cell_type": "code",
   "execution_count": 4,
   "id": "e1430247",
   "metadata": {},
   "outputs": [],
   "source": [
    "categoricas= [\"borough\", \"vehicle\", \"road_type\", \"time_of_day\", \"weekday\", \"season\", \"main_contributing_factor\"]\n",
    "x=df[categoricas]\n",
    "y=df[\"deaths\"]"
   ]
  },
  {
   "cell_type": "code",
   "execution_count": 5,
   "id": "33bf367a",
   "metadata": {},
   "outputs": [
    {
     "data": {
      "text/plain": [
       "0    438294\n",
       "1       634\n",
       "Name: deaths, dtype: int64"
      ]
     },
     "execution_count": 5,
     "metadata": {},
     "output_type": "execute_result"
    }
   ],
   "source": [
    "df.deaths.value_counts()"
   ]
  },
  {
   "cell_type": "code",
   "execution_count": 6,
   "id": "6059119e",
   "metadata": {},
   "outputs": [
    {
     "data": {
      "text/html": [
       "<div>\n",
       "<style scoped>\n",
       "    .dataframe tbody tr th:only-of-type {\n",
       "        vertical-align: middle;\n",
       "    }\n",
       "\n",
       "    .dataframe tbody tr th {\n",
       "        vertical-align: top;\n",
       "    }\n",
       "\n",
       "    .dataframe thead th {\n",
       "        text-align: right;\n",
       "    }\n",
       "</style>\n",
       "<table border=\"1\" class=\"dataframe\">\n",
       "  <thead>\n",
       "    <tr style=\"text-align: right;\">\n",
       "      <th></th>\n",
       "      <th>borough_BROOKLYN</th>\n",
       "      <th>borough_MANHATTAN</th>\n",
       "      <th>borough_QUEENS</th>\n",
       "      <th>borough_STATEN ISLAND</th>\n",
       "      <th>vehicle_Bus</th>\n",
       "      <th>vehicle_Large commercial vehicle</th>\n",
       "      <th>vehicle_Motorcycle</th>\n",
       "      <th>vehicle_Other</th>\n",
       "      <th>vehicle_Passenger vehicle</th>\n",
       "      <th>vehicle_SUV</th>\n",
       "      <th>...</th>\n",
       "      <th>main_contributing_factor_Following Too Closely</th>\n",
       "      <th>main_contributing_factor_Lost Consciousness</th>\n",
       "      <th>main_contributing_factor_Other</th>\n",
       "      <th>main_contributing_factor_Passing Too Closely</th>\n",
       "      <th>main_contributing_factor_Passing or Lane Usage Improper</th>\n",
       "      <th>main_contributing_factor_Pavement Slippery</th>\n",
       "      <th>main_contributing_factor_Traffic Control Disregarded</th>\n",
       "      <th>main_contributing_factor_Turning Improperly</th>\n",
       "      <th>main_contributing_factor_Unsafe Lane Changing</th>\n",
       "      <th>main_contributing_factor_Unsafe Speed</th>\n",
       "    </tr>\n",
       "  </thead>\n",
       "  <tbody>\n",
       "    <tr>\n",
       "      <th>0</th>\n",
       "      <td>0</td>\n",
       "      <td>1</td>\n",
       "      <td>0</td>\n",
       "      <td>0</td>\n",
       "      <td>0</td>\n",
       "      <td>0</td>\n",
       "      <td>0</td>\n",
       "      <td>0</td>\n",
       "      <td>1</td>\n",
       "      <td>0</td>\n",
       "      <td>...</td>\n",
       "      <td>0</td>\n",
       "      <td>0</td>\n",
       "      <td>0</td>\n",
       "      <td>1</td>\n",
       "      <td>0</td>\n",
       "      <td>0</td>\n",
       "      <td>0</td>\n",
       "      <td>0</td>\n",
       "      <td>0</td>\n",
       "      <td>0</td>\n",
       "    </tr>\n",
       "    <tr>\n",
       "      <th>1</th>\n",
       "      <td>0</td>\n",
       "      <td>0</td>\n",
       "      <td>1</td>\n",
       "      <td>0</td>\n",
       "      <td>0</td>\n",
       "      <td>0</td>\n",
       "      <td>0</td>\n",
       "      <td>0</td>\n",
       "      <td>1</td>\n",
       "      <td>0</td>\n",
       "      <td>...</td>\n",
       "      <td>0</td>\n",
       "      <td>0</td>\n",
       "      <td>0</td>\n",
       "      <td>0</td>\n",
       "      <td>0</td>\n",
       "      <td>0</td>\n",
       "      <td>0</td>\n",
       "      <td>1</td>\n",
       "      <td>0</td>\n",
       "      <td>0</td>\n",
       "    </tr>\n",
       "    <tr>\n",
       "      <th>2</th>\n",
       "      <td>0</td>\n",
       "      <td>0</td>\n",
       "      <td>1</td>\n",
       "      <td>0</td>\n",
       "      <td>0</td>\n",
       "      <td>0</td>\n",
       "      <td>0</td>\n",
       "      <td>0</td>\n",
       "      <td>1</td>\n",
       "      <td>0</td>\n",
       "      <td>...</td>\n",
       "      <td>0</td>\n",
       "      <td>0</td>\n",
       "      <td>1</td>\n",
       "      <td>0</td>\n",
       "      <td>0</td>\n",
       "      <td>0</td>\n",
       "      <td>0</td>\n",
       "      <td>0</td>\n",
       "      <td>0</td>\n",
       "      <td>0</td>\n",
       "    </tr>\n",
       "    <tr>\n",
       "      <th>3</th>\n",
       "      <td>1</td>\n",
       "      <td>0</td>\n",
       "      <td>0</td>\n",
       "      <td>0</td>\n",
       "      <td>1</td>\n",
       "      <td>0</td>\n",
       "      <td>0</td>\n",
       "      <td>0</td>\n",
       "      <td>0</td>\n",
       "      <td>0</td>\n",
       "      <td>...</td>\n",
       "      <td>0</td>\n",
       "      <td>0</td>\n",
       "      <td>0</td>\n",
       "      <td>0</td>\n",
       "      <td>1</td>\n",
       "      <td>0</td>\n",
       "      <td>0</td>\n",
       "      <td>0</td>\n",
       "      <td>0</td>\n",
       "      <td>0</td>\n",
       "    </tr>\n",
       "    <tr>\n",
       "      <th>4</th>\n",
       "      <td>0</td>\n",
       "      <td>0</td>\n",
       "      <td>0</td>\n",
       "      <td>0</td>\n",
       "      <td>0</td>\n",
       "      <td>0</td>\n",
       "      <td>0</td>\n",
       "      <td>0</td>\n",
       "      <td>1</td>\n",
       "      <td>0</td>\n",
       "      <td>...</td>\n",
       "      <td>0</td>\n",
       "      <td>0</td>\n",
       "      <td>0</td>\n",
       "      <td>0</td>\n",
       "      <td>0</td>\n",
       "      <td>0</td>\n",
       "      <td>0</td>\n",
       "      <td>0</td>\n",
       "      <td>0</td>\n",
       "      <td>0</td>\n",
       "    </tr>\n",
       "    <tr>\n",
       "      <th>...</th>\n",
       "      <td>...</td>\n",
       "      <td>...</td>\n",
       "      <td>...</td>\n",
       "      <td>...</td>\n",
       "      <td>...</td>\n",
       "      <td>...</td>\n",
       "      <td>...</td>\n",
       "      <td>...</td>\n",
       "      <td>...</td>\n",
       "      <td>...</td>\n",
       "      <td>...</td>\n",
       "      <td>...</td>\n",
       "      <td>...</td>\n",
       "      <td>...</td>\n",
       "      <td>...</td>\n",
       "      <td>...</td>\n",
       "      <td>...</td>\n",
       "      <td>...</td>\n",
       "      <td>...</td>\n",
       "      <td>...</td>\n",
       "      <td>...</td>\n",
       "    </tr>\n",
       "    <tr>\n",
       "      <th>438923</th>\n",
       "      <td>0</td>\n",
       "      <td>0</td>\n",
       "      <td>1</td>\n",
       "      <td>0</td>\n",
       "      <td>0</td>\n",
       "      <td>0</td>\n",
       "      <td>0</td>\n",
       "      <td>0</td>\n",
       "      <td>0</td>\n",
       "      <td>0</td>\n",
       "      <td>...</td>\n",
       "      <td>0</td>\n",
       "      <td>0</td>\n",
       "      <td>0</td>\n",
       "      <td>0</td>\n",
       "      <td>0</td>\n",
       "      <td>0</td>\n",
       "      <td>0</td>\n",
       "      <td>0</td>\n",
       "      <td>0</td>\n",
       "      <td>0</td>\n",
       "    </tr>\n",
       "    <tr>\n",
       "      <th>438924</th>\n",
       "      <td>1</td>\n",
       "      <td>0</td>\n",
       "      <td>0</td>\n",
       "      <td>0</td>\n",
       "      <td>0</td>\n",
       "      <td>0</td>\n",
       "      <td>0</td>\n",
       "      <td>0</td>\n",
       "      <td>0</td>\n",
       "      <td>1</td>\n",
       "      <td>...</td>\n",
       "      <td>0</td>\n",
       "      <td>0</td>\n",
       "      <td>0</td>\n",
       "      <td>0</td>\n",
       "      <td>0</td>\n",
       "      <td>0</td>\n",
       "      <td>0</td>\n",
       "      <td>0</td>\n",
       "      <td>0</td>\n",
       "      <td>1</td>\n",
       "    </tr>\n",
       "    <tr>\n",
       "      <th>438925</th>\n",
       "      <td>0</td>\n",
       "      <td>1</td>\n",
       "      <td>0</td>\n",
       "      <td>0</td>\n",
       "      <td>0</td>\n",
       "      <td>0</td>\n",
       "      <td>0</td>\n",
       "      <td>0</td>\n",
       "      <td>1</td>\n",
       "      <td>0</td>\n",
       "      <td>...</td>\n",
       "      <td>0</td>\n",
       "      <td>0</td>\n",
       "      <td>0</td>\n",
       "      <td>0</td>\n",
       "      <td>0</td>\n",
       "      <td>0</td>\n",
       "      <td>0</td>\n",
       "      <td>0</td>\n",
       "      <td>0</td>\n",
       "      <td>0</td>\n",
       "    </tr>\n",
       "    <tr>\n",
       "      <th>438926</th>\n",
       "      <td>0</td>\n",
       "      <td>0</td>\n",
       "      <td>1</td>\n",
       "      <td>0</td>\n",
       "      <td>0</td>\n",
       "      <td>0</td>\n",
       "      <td>0</td>\n",
       "      <td>0</td>\n",
       "      <td>0</td>\n",
       "      <td>1</td>\n",
       "      <td>...</td>\n",
       "      <td>0</td>\n",
       "      <td>0</td>\n",
       "      <td>0</td>\n",
       "      <td>0</td>\n",
       "      <td>0</td>\n",
       "      <td>0</td>\n",
       "      <td>0</td>\n",
       "      <td>0</td>\n",
       "      <td>0</td>\n",
       "      <td>0</td>\n",
       "    </tr>\n",
       "    <tr>\n",
       "      <th>438927</th>\n",
       "      <td>0</td>\n",
       "      <td>0</td>\n",
       "      <td>1</td>\n",
       "      <td>0</td>\n",
       "      <td>0</td>\n",
       "      <td>0</td>\n",
       "      <td>0</td>\n",
       "      <td>0</td>\n",
       "      <td>0</td>\n",
       "      <td>0</td>\n",
       "      <td>...</td>\n",
       "      <td>0</td>\n",
       "      <td>0</td>\n",
       "      <td>0</td>\n",
       "      <td>0</td>\n",
       "      <td>0</td>\n",
       "      <td>0</td>\n",
       "      <td>0</td>\n",
       "      <td>0</td>\n",
       "      <td>0</td>\n",
       "      <td>0</td>\n",
       "    </tr>\n",
       "  </tbody>\n",
       "</table>\n",
       "<p>438928 rows × 42 columns</p>\n",
       "</div>"
      ],
      "text/plain": [
       "        borough_BROOKLYN  borough_MANHATTAN  borough_QUEENS  \\\n",
       "0                      0                  1               0   \n",
       "1                      0                  0               1   \n",
       "2                      0                  0               1   \n",
       "3                      1                  0               0   \n",
       "4                      0                  0               0   \n",
       "...                  ...                ...             ...   \n",
       "438923                 0                  0               1   \n",
       "438924                 1                  0               0   \n",
       "438925                 0                  1               0   \n",
       "438926                 0                  0               1   \n",
       "438927                 0                  0               1   \n",
       "\n",
       "        borough_STATEN ISLAND  vehicle_Bus  vehicle_Large commercial vehicle  \\\n",
       "0                           0            0                                 0   \n",
       "1                           0            0                                 0   \n",
       "2                           0            0                                 0   \n",
       "3                           0            1                                 0   \n",
       "4                           0            0                                 0   \n",
       "...                       ...          ...                               ...   \n",
       "438923                      0            0                                 0   \n",
       "438924                      0            0                                 0   \n",
       "438925                      0            0                                 0   \n",
       "438926                      0            0                                 0   \n",
       "438927                      0            0                                 0   \n",
       "\n",
       "        vehicle_Motorcycle  vehicle_Other  vehicle_Passenger vehicle  \\\n",
       "0                        0              0                          1   \n",
       "1                        0              0                          1   \n",
       "2                        0              0                          1   \n",
       "3                        0              0                          0   \n",
       "4                        0              0                          1   \n",
       "...                    ...            ...                        ...   \n",
       "438923                   0              0                          0   \n",
       "438924                   0              0                          0   \n",
       "438925                   0              0                          1   \n",
       "438926                   0              0                          0   \n",
       "438927                   0              0                          0   \n",
       "\n",
       "        vehicle_SUV  ...  main_contributing_factor_Following Too Closely  \\\n",
       "0                 0  ...                                               0   \n",
       "1                 0  ...                                               0   \n",
       "2                 0  ...                                               0   \n",
       "3                 0  ...                                               0   \n",
       "4                 0  ...                                               0   \n",
       "...             ...  ...                                             ...   \n",
       "438923            0  ...                                               0   \n",
       "438924            1  ...                                               0   \n",
       "438925            0  ...                                               0   \n",
       "438926            1  ...                                               0   \n",
       "438927            0  ...                                               0   \n",
       "\n",
       "        main_contributing_factor_Lost Consciousness  \\\n",
       "0                                                 0   \n",
       "1                                                 0   \n",
       "2                                                 0   \n",
       "3                                                 0   \n",
       "4                                                 0   \n",
       "...                                             ...   \n",
       "438923                                            0   \n",
       "438924                                            0   \n",
       "438925                                            0   \n",
       "438926                                            0   \n",
       "438927                                            0   \n",
       "\n",
       "        main_contributing_factor_Other  \\\n",
       "0                                    0   \n",
       "1                                    0   \n",
       "2                                    1   \n",
       "3                                    0   \n",
       "4                                    0   \n",
       "...                                ...   \n",
       "438923                               0   \n",
       "438924                               0   \n",
       "438925                               0   \n",
       "438926                               0   \n",
       "438927                               0   \n",
       "\n",
       "        main_contributing_factor_Passing Too Closely  \\\n",
       "0                                                  1   \n",
       "1                                                  0   \n",
       "2                                                  0   \n",
       "3                                                  0   \n",
       "4                                                  0   \n",
       "...                                              ...   \n",
       "438923                                             0   \n",
       "438924                                             0   \n",
       "438925                                             0   \n",
       "438926                                             0   \n",
       "438927                                             0   \n",
       "\n",
       "        main_contributing_factor_Passing or Lane Usage Improper  \\\n",
       "0                                                       0         \n",
       "1                                                       0         \n",
       "2                                                       0         \n",
       "3                                                       1         \n",
       "4                                                       0         \n",
       "...                                                   ...         \n",
       "438923                                                  0         \n",
       "438924                                                  0         \n",
       "438925                                                  0         \n",
       "438926                                                  0         \n",
       "438927                                                  0         \n",
       "\n",
       "        main_contributing_factor_Pavement Slippery  \\\n",
       "0                                                0   \n",
       "1                                                0   \n",
       "2                                                0   \n",
       "3                                                0   \n",
       "4                                                0   \n",
       "...                                            ...   \n",
       "438923                                           0   \n",
       "438924                                           0   \n",
       "438925                                           0   \n",
       "438926                                           0   \n",
       "438927                                           0   \n",
       "\n",
       "        main_contributing_factor_Traffic Control Disregarded  \\\n",
       "0                                                       0      \n",
       "1                                                       0      \n",
       "2                                                       0      \n",
       "3                                                       0      \n",
       "4                                                       0      \n",
       "...                                                   ...      \n",
       "438923                                                  0      \n",
       "438924                                                  0      \n",
       "438925                                                  0      \n",
       "438926                                                  0      \n",
       "438927                                                  0      \n",
       "\n",
       "        main_contributing_factor_Turning Improperly  \\\n",
       "0                                                 0   \n",
       "1                                                 1   \n",
       "2                                                 0   \n",
       "3                                                 0   \n",
       "4                                                 0   \n",
       "...                                             ...   \n",
       "438923                                            0   \n",
       "438924                                            0   \n",
       "438925                                            0   \n",
       "438926                                            0   \n",
       "438927                                            0   \n",
       "\n",
       "        main_contributing_factor_Unsafe Lane Changing  \\\n",
       "0                                                   0   \n",
       "1                                                   0   \n",
       "2                                                   0   \n",
       "3                                                   0   \n",
       "4                                                   0   \n",
       "...                                               ...   \n",
       "438923                                              0   \n",
       "438924                                              0   \n",
       "438925                                              0   \n",
       "438926                                              0   \n",
       "438927                                              0   \n",
       "\n",
       "        main_contributing_factor_Unsafe Speed  \n",
       "0                                           0  \n",
       "1                                           0  \n",
       "2                                           0  \n",
       "3                                           0  \n",
       "4                                           0  \n",
       "...                                       ...  \n",
       "438923                                      0  \n",
       "438924                                      1  \n",
       "438925                                      0  \n",
       "438926                                      0  \n",
       "438927                                      0  \n",
       "\n",
       "[438928 rows x 42 columns]"
      ]
     },
     "execution_count": 6,
     "metadata": {},
     "output_type": "execute_result"
    }
   ],
   "source": [
    "x=pd.get_dummies(x, drop_first = True)\n",
    "x"
   ]
  },
  {
   "cell_type": "markdown",
   "id": "2bf9759f",
   "metadata": {},
   "source": [
    "# Naive bayes bernoulli + Gridsearch + oversampling"
   ]
  },
  {
   "cell_type": "code",
   "execution_count": null,
   "id": "2adfbc34",
   "metadata": {},
   "outputs": [],
   "source": [
    "from sklearn.model_selection import train_test_split\n",
    "X_train, X_test, y_train, y_test = train_test_split(x, y, test_size=0.5, random_state=114, shuffle=False)"
   ]
  },
  {
   "cell_type": "code",
   "execution_count": null,
   "id": "34f73ce4",
   "metadata": {},
   "outputs": [],
   "source": [
    "from imblearn.over_sampling import RandomOverSampler\n",
    "\n",
    "oversampler=RandomOverSampler(sampling_strategy=1);\n",
    "\n",
    "X_train_os,y_train_os=oversampler.fit_resample(X_train,y_train);"
   ]
  },
  {
   "cell_type": "code",
   "execution_count": 56,
   "id": "2d3d0426",
   "metadata": {},
   "outputs": [
    {
     "data": {
      "text/plain": [
       "GridSearchCV(cv=StratifiedKFold(n_splits=10, random_state=19, shuffle=True),\n",
       "             estimator=BernoulliNB(binarize=None),\n",
       "             param_grid={'alpha': [1e-10, 0.0001, 0.001, 0.01, 0.1, 0.5, 1.0,\n",
       "                                   2.0, 10.0]},\n",
       "             scoring='recall')"
      ]
     },
     "execution_count": 56,
     "metadata": {},
     "output_type": "execute_result"
    }
   ],
   "source": [
    "from sklearn.model_selection import GridSearchCV\n",
    "from sklearn.naive_bayes import BernoulliNB\n",
    "from sklearn.model_selection import StratifiedKFold\n",
    "\n",
    "alphas = {'alpha': [1.0e-10, 0.0001, 0.001, 0.01, 0.1, 0.5, 1.0, 2.0, 10.0]}\n",
    "\n",
    "folds=StratifiedKFold(n_splits=10, random_state=19, shuffle=True)\n",
    "\n",
    "# setup grid search\n",
    "grid_nb = GridSearchCV(estimator = BernoulliNB(binarize = None), param_grid = alphas, cv = folds, scoring = 'recall')\n",
    "\n",
    "# fit nb\n",
    "grid_nb.fit(X_train_os, y_train_os)"
   ]
  },
  {
   "cell_type": "code",
   "execution_count": 57,
   "id": "7e7c2049",
   "metadata": {},
   "outputs": [
    {
     "data": {
      "text/plain": [
       "BernoulliNB(alpha=1e-10, binarize=None)"
      ]
     },
     "execution_count": 57,
     "metadata": {},
     "output_type": "execute_result"
    }
   ],
   "source": [
    "grid_nb.best_estimator_"
   ]
  },
  {
   "cell_type": "code",
   "execution_count": 58,
   "id": "3fedb9e7",
   "metadata": {},
   "outputs": [
    {
     "data": {
      "text/plain": [
       "0.7464541229766416"
      ]
     },
     "execution_count": 58,
     "metadata": {},
     "output_type": "execute_result"
    }
   ],
   "source": [
    "grid_nb.best_score_"
   ]
  },
  {
   "cell_type": "code",
   "execution_count": 59,
   "id": "95924e00",
   "metadata": {},
   "outputs": [],
   "source": [
    "modelo=BernoulliNB(alpha=10, binarize=None, class_prior=None, fit_prior=True)"
   ]
  },
  {
   "cell_type": "code",
   "execution_count": 60,
   "id": "7c00dec5",
   "metadata": {},
   "outputs": [
    {
     "data": {
      "text/plain": [
       "BernoulliNB(alpha=10, binarize=None)"
      ]
     },
     "execution_count": 60,
     "metadata": {},
     "output_type": "execute_result"
    }
   ],
   "source": [
    "modelo.fit(X_train_os, y_train_os)"
   ]
  },
  {
   "cell_type": "code",
   "execution_count": 61,
   "id": "3de6191e",
   "metadata": {},
   "outputs": [
    {
     "name": "stdout",
     "output_type": "stream",
     "text": [
      "0.742597933627834\n",
      "0.685506506761929\n"
     ]
    }
   ],
   "source": [
    "from sklearn.metrics import accuracy_score, confusion_matrix\n",
    "y_train_pred_grid = modelo.predict(X_train_os)\n",
    "y_test_pred_grid = modelo.predict(X_test)\n",
    "print(accuracy_score(y_train_os, y_train_pred_grid))\n",
    "print(accuracy_score(y_test, y_test_pred_grid))"
   ]
  },
  {
   "cell_type": "code",
   "execution_count": 62,
   "id": "01e5ab72",
   "metadata": {},
   "outputs": [
    {
     "name": "stdout",
     "output_type": "stream",
     "text": [
      "0.6409395973154363\n"
     ]
    }
   ],
   "source": [
    "from sklearn.metrics import recall_score\n",
    "print(recall_score(y_test, y_test_pred_grid))"
   ]
  },
  {
   "cell_type": "code",
   "execution_count": 69,
   "id": "fe2ce4a6",
   "metadata": {},
   "outputs": [
    {
     "data": {
      "text/plain": [
       "0.685506506761929"
      ]
     },
     "execution_count": 69,
     "metadata": {},
     "output_type": "execute_result"
    }
   ],
   "source": [
    "accuracy_grid=accuracy_score(y_test, y_test_pred_grid)\n",
    "accuracy_grid"
   ]
  },
  {
   "cell_type": "code",
   "execution_count": 70,
   "id": "efbe9f48",
   "metadata": {},
   "outputs": [
    {
     "name": "stdout",
     "output_type": "stream",
     "text": [
      "0.005504164145125501\n"
     ]
    }
   ],
   "source": [
    "print(f1_score(y_test, y_test_pred_grid))"
   ]
  },
  {
   "cell_type": "code",
   "execution_count": 71,
   "id": "d8c4d243",
   "metadata": {},
   "outputs": [
    {
     "name": "stdout",
     "output_type": "stream",
     "text": [
      "0.002763949988423246\n"
     ]
    }
   ],
   "source": [
    "print(precision_score(y_test, y_test_pred_grid))"
   ]
  },
  {
   "cell_type": "code",
   "execution_count": 63,
   "id": "7c7bd1e3",
   "metadata": {},
   "outputs": [
    {
     "data": {
      "text/plain": [
       "array([[150253,  68913],\n",
       "       [   107,    191]], dtype=int64)"
      ]
     },
     "execution_count": 63,
     "metadata": {},
     "output_type": "execute_result"
    }
   ],
   "source": [
    "conf_mat_grid = confusion_matrix(y_test, y_test_pred_grid)\n",
    "conf_mat_grid"
   ]
  },
  {
   "cell_type": "code",
   "execution_count": 68,
   "id": "44760642",
   "metadata": {},
   "outputs": [
    {
     "data": {
      "image/png": "[encoded data removed]",
      "text/plain": [
       "<Figure size 500x200 with 2 Axes>"
      ]
     },
     "metadata": {},
     "output_type": "display_data"
    }
   ],
   "source": [
    "plt.figure(figsize=(5, 2)); sns.heatmap(conf_mat_grid,  annot=True, fmt=\"d\");"
   ]
  },
  {
   "cell_type": "code",
   "execution_count": 65,
   "id": "106ec1f3",
   "metadata": {},
   "outputs": [
    {
     "data": {
      "text/plain": [
       "0.6632533508510328"
      ]
     },
     "execution_count": 65,
     "metadata": {},
     "output_type": "execute_result"
    }
   ],
   "source": [
    "from sklearn.metrics import roc_curve, auc\n",
    "\n",
    "fpr, tpr, _ = roc_curve(y_test, y_test_pred_grid)\n",
    "roc_auc = auc(fpr, tpr)\n",
    "roc_auc"
   ]
  },
  {
   "cell_type": "code",
   "execution_count": 67,
   "id": "99e24bcb",
   "metadata": {},
   "outputs": [
    {
     "data": {
      "image/png": "[encoded data removed]",
      "text/plain": [
       "<Figure size 640x480 with 1 Axes>"
      ]
     },
     "metadata": {},
     "output_type": "display_data"
    }
   ],
   "source": [
    "plt.plot(fpr, tpr, color='darkorange',\n",
    "         lw=2, label='ROC curve (area = %0.2f)' % roc_auc)\n",
    "plt.plot([0, 1], [0, 1], color='navy', lw=2, linestyle='--')\n",
    "plt.xlim([0.0, 1.0])\n",
    "plt.ylim([0.0, 1.05])\n",
    "plt.xlabel('False Positive Rate')\n",
    "plt.ylabel('True Positive Rate')\n",
    "plt.title('')\n",
    "plt.legend(loc=\"lower right\")\n",
    "plt.show()"
   ]
  },
  {
   "cell_type": "code",
   "execution_count": null,
   "id": "068719b5",
   "metadata": {},
   "outputs": [],
   "source": []
  }
 ],
 "metadata": {
  "kernelspec": {
   "display_name": "Python 3 (ipykernel)",
   "language": "python",
   "name": "python3"
  },
  "language_info": {
   "codemirror_mode": {
    "name": "ipython",
    "version": 3
   },
   "file_extension": ".py",
   "mimetype": "text/x-python",
   "name": "python",
   "nbconvert_exporter": "python",
   "pygments_lexer": "ipython3",
   "version": "3.8.13"
  }
 },
 "nbformat": 4,
 "nbformat_minor": 5
}
